{
 "cells": [
  {
   "cell_type": "code",
   "execution_count": 19,
   "metadata": {},
   "outputs": [],
   "source": [
    "import uuid\n",
    "from pdf2image import convert_from_path\n",
    "import pytesseract as tess\n",
    "from pathlib import Path\n",
    "from PIL import Image\n",
    "import tempfile\n",
    "import shutil\n",
    "import fitz\n",
    "\n",
    "class PDFDrawing: \n",
    "    \"\"\"\n",
    "    This is a PDF Drawing class.\n",
    "    \"\"\" \n",
    "    def __init__ (self, path): \n",
    "        self.path : str = path\n",
    "        self.temp_folder: Path = Path(tempfile.gettempdir())\n",
    "        self.temp_file_path = self.__copy_file_to_temp()\n",
    "        self.doc : fitz.Document = fitz.open(self.temp_file_path) # type: ignore\n",
    "        self.temp_image_path = self.__convert_to_png()\n",
    "        \n",
    "    def __copy_file_to_temp(self) -> Path: \n",
    "        filename = self.__generate_random_filename()\n",
    "        output_path = Path.joinpath(self.temp_folder, filename + \".pdf\")\n",
    "        shutil.copyfile(src=self.path, dst=output_path)\n",
    "        return output_path\n",
    "    \n",
    "    def __generate_random_filename(self) -> str:\n",
    "        return f\"{uuid.uuid4()}.png\"\n",
    "    \n",
    "    def __convert_to_png (self) -> Path: \n",
    "        images = convert_from_path(pdf_path=self.temp_file_path, dpi=500)\n",
    "        filename = Path(self.temp_file_path).stem\n",
    "        output_path = Path.joinpath(Path(self.temp_folder), filename + \".png\")\n",
    "        images[0].save(fp=output_path, format=\"PNG\")\n",
    "        return output_path\n",
    "    \n",
    "    def get_width (self) -> int: \n",
    "        return self.doc[0].rect.width\n",
    "    \n",
    "    def get_height (self) -> int: \n",
    "        return self.doc[0].rect.height\n",
    "    \n",
    "    def get_page_orientation(self) -> str: \n",
    "        assert self.get_width() > 0, \"Width is not greater than 0\"\n",
    "        assert self.get_height() > 0, \"Height is not greater than 0\"\n",
    "        \n",
    "        if self.get_width() < self.get_height(): \n",
    "            return \"vertical\"\n",
    "        else: \n",
    "            return \"horizontal\"\n",
    "    \n",
    "    def get_text_orientation(self) -> int:\n",
    "        my_image = Image.open(self.temp_image_path)\n",
    "        osd = tess.image_to_osd(my_image).split()\n",
    "        orientation = int(osd[8])\n",
    "        return orientation\n",
    "    \n",
    "    def get_plan_type(self) -> str: \n",
    "        page_orientation = self.get_page_orientation()\n",
    "        \n",
    "        if page_orientation == \"vertical\": \n",
    "            if self.get_text_orientation() == 0: \n",
    "                return \"vertical plan and horizontal text\"\n",
    "            elif self.get_text_orientation() == 90: \n",
    "                return \"vertical plan and vertical text\"\n",
    "            else:\n",
    "                raise Exception(\"Plan type not allowed\")\n",
    "            \n",
    "        elif page_orientation == \"horizontal\":\n",
    "            raise Exception(\"Plan type not allowed\")\n",
    "        \n",
    "        else: \n",
    "            raise Exception(\"Plan type not allowed\")\n",
    "            "
   ]
  },
  {
   "cell_type": "code",
   "execution_count": 20,
   "metadata": {},
   "outputs": [],
   "source": [
    "path = \"./inputs/114319E.PDF\"\n",
    "\n",
    "pdf_drawing = PDFDrawing(path=path)"
   ]
  },
  {
   "cell_type": "code",
   "execution_count": 18,
   "metadata": {},
   "outputs": [
    {
     "data": {
      "text/plain": [
       "(612.0, 792.0)"
      ]
     },
     "execution_count": 18,
     "metadata": {},
     "output_type": "execute_result"
    }
   ],
   "source": [
    "pdf_drawing.get_width(), pdf_drawing.get_height()"
   ]
  },
  {
   "cell_type": "code",
   "execution_count": 13,
   "metadata": {},
   "outputs": [
    {
     "data": {
      "text/plain": [
       "'vertical'"
      ]
     },
     "execution_count": 13,
     "metadata": {},
     "output_type": "execute_result"
    }
   ],
   "source": [
    "pdf_drawing.get_page_orientation()"
   ]
  },
  {
   "cell_type": "code",
   "execution_count": 21,
   "metadata": {},
   "outputs": [
    {
     "data": {
      "text/plain": [
       "90"
      ]
     },
     "execution_count": 21,
     "metadata": {},
     "output_type": "execute_result"
    }
   ],
   "source": [
    "pdf_drawing.get_text_orientation()"
   ]
  },
  {
   "cell_type": "code",
   "execution_count": 15,
   "metadata": {},
   "outputs": [
    {
     "data": {
      "text/plain": [
       "'vertical plan and vertical text'"
      ]
     },
     "execution_count": 15,
     "metadata": {},
     "output_type": "execute_result"
    }
   ],
   "source": [
    "pdf_drawing.get_plan_type()"
   ]
  }
 ],
 "metadata": {
  "kernelspec": {
   "display_name": "Python 3",
   "language": "python",
   "name": "python3"
  },
  "language_info": {
   "codemirror_mode": {
    "name": "ipython",
    "version": 3
   },
   "file_extension": ".py",
   "mimetype": "text/x-python",
   "name": "python",
   "nbconvert_exporter": "python",
   "pygments_lexer": "ipython3",
   "version": "3.10.5"
  },
  "orig_nbformat": 4,
  "vscode": {
   "interpreter": {
    "hash": "2de7b4a052e65261ea8541eacad9ab5841dbc9fbfe443eb5e82600569ad0c738"
   }
  }
 },
 "nbformat": 4,
 "nbformat_minor": 2
}
