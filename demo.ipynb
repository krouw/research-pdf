{
 "cells": [
  {
   "cell_type": "code",
   "execution_count": 77,
   "metadata": {},
   "outputs": [],
   "source": [
    "from result import Ok, Err, Result\n",
    "from pdf2image import convert_from_path\n",
    "import pytesseract as tess\n",
    "from pathlib import Path\n",
    "from PIL import Image\n",
    "import tempfile\n",
    "import shutil\n",
    "import fitz\n",
    "import uuid\n",
    "import os\n",
    "\n",
    "TEMP_FOLDER: Path = Path(tempfile.gettempdir())\n",
    "\n",
    "def generate_random_filename() -> str:\n",
    "    return f\"{uuid.uuid4()}\"\n",
    "\n",
    "def copy_file_to_temp(file_path: Path) -> Path: \n",
    "    filename = generate_random_filename()\n",
    "    output_path = Path.joinpath(TEMP_FOLDER, filename + \".pdf\")\n",
    "    shutil.copyfile(src=file_path, dst=output_path)\n",
    "    return output_path\n",
    "    \n",
    "def convert_to_png (temp_file_path: Path) -> Path: \n",
    "    images = convert_from_path(pdf_path=temp_file_path, dpi=500)\n",
    "    filename = Path(temp_file_path).stem\n",
    "    output_path = Path.joinpath(Path(TEMP_FOLDER), filename + \".png\")\n",
    "    images[0].save(fp=output_path, format=\"PNG\")\n",
    "    return output_path\n",
    "\n",
    "def get_width (doc: fitz.Document) -> int: \n",
    "    return doc[0].rect.width\n",
    "\n",
    "def get_height (doc: fitz.Document) -> int: \n",
    "    return doc[0].rect.height\n",
    "\n",
    "def get_page_orientation(doc: fitz.Document) -> Result[str,str]: \n",
    "    if get_width(doc) <= 0:\n",
    "        return Err(\"Width is not greater than 0\")\n",
    "    elif get_height(doc) <= 0:\n",
    "        return Err(\"Height is not greater than 0\")\n",
    "    elif get_width(doc) < get_height(doc): \n",
    "        return Ok(\"vertical\")\n",
    "    elif get_width(doc) > get_height(doc):\n",
    "        return Ok(\"horizontal\")\n",
    "    else: \n",
    "        return Err(\"Page Dimensions are not valid\")\n",
    "    \n",
    "def get_text_orientation(temp_image_path: Path) -> int:\n",
    "    my_image = Image.open(temp_image_path)\n",
    "    osd = tess.image_to_osd(my_image).split()\n",
    "    orientation = int(osd[8])\n",
    "    return orientation\n",
    "\n",
    "def get_plan_type(path: Path) -> Result[str,str]:\n",
    "    temp_file_path = copy_file_to_temp(file_path=path)\n",
    "    temp_image_path = convert_to_png(temp_file_path=temp_file_path)\n",
    "    doc = fitz.open(temp_file_path)\n",
    "    result_page_orientation = get_page_orientation(doc=doc)\n",
    "    \n",
    "    text_orientation = get_text_orientation(temp_image_path=temp_image_path)\n",
    "    \n",
    "    if result_page_orientation.is_ok():\n",
    "        if result_page_orientation.value == \"vertical\": \n",
    "            if text_orientation == 0: \n",
    "                return Ok(\"vertical plan and horizontal text\")\n",
    "            elif text_orientation == 90: \n",
    "                return Ok(\"vertical plan and vertical text\")\n",
    "            else:\n",
    "                return Err(f\"Plan type is vertical, but text orientation {text_orientation} and it'is not allowed\")\n",
    "            \n",
    "        elif result_page_orientation.value == \"horizontal\":\n",
    "            return Err(\"Plan type is horizontal\")\n",
    "        else: \n",
    "            return Err(\"Plan type not allowed\")\n",
    "    else: \n",
    "        return Err(result_page_orientation.value)\n",
    "\n",
    "def get_file_paths_from_folder_path(folder_path: Path) -> list:\n",
    "    files_path = []\n",
    "    for file in os.listdir(folder_path):\n",
    "        if file.endswith(\".pdf\") or file.endswith(\".PDF\"):\n",
    "            files_path.append(Path.joinpath(Path(folder_path), file))\n",
    "    return files_path\n"
   ]
  },
  {
   "cell_type": "code",
   "execution_count": 78,
   "metadata": {},
   "outputs": [
    {
     "name": "stdout",
     "output_type": "stream",
     "text": [
      "114319A: Plan type is horizontal\n",
      "114319B: Plan type is vertical, but text orientation is not allowed\n",
      "114319B_rotated: Plan type is horizontal\n",
      "114319C: vertical plan and vertical text\n",
      "114319D: vertical plan and vertical text\n",
      "114319E: vertical plan and vertical text\n"
     ]
    }
   ],
   "source": [
    "pdf_file_path = get_file_paths_from_folder_path(Path(\"./inputs\"))\n",
    "\n",
    "# use path from pdf_file_path and get the result using get_plan_type and print it with the name of the path\n",
    "for path in pdf_file_path:\n",
    "    result = get_plan_type(path=path)\n",
    "    if result.is_ok():\n",
    "        print(f\"{path.stem}: {result.value}\")\n",
    "    else:\n",
    "        print(f\"{path.stem}: {result.value}\")"
   ]
  },
  {
   "cell_type": "code",
   "execution_count": 72,
   "metadata": {},
   "outputs": [
    {
     "data": {
      "text/plain": [
       "WindowsPath('C:/Users/joel_/AppData/Local/Temp/7b89207c-f897-4fa8-8b81-d80762e77f7f.png')"
      ]
     },
     "execution_count": 72,
     "metadata": {},
     "output_type": "execute_result"
    }
   ],
   "source": [
    "temp_image_path"
   ]
  },
  {
   "cell_type": "code",
   "execution_count": 19,
   "metadata": {},
   "outputs": [],
   "source": [
    "import uuid\n",
    "from pdf2image import convert_from_path\n",
    "import pytesseract as tess\n",
    "from pathlib import Path\n",
    "from PIL import Image\n",
    "import tempfile\n",
    "import shutil\n",
    "import fitz\n",
    "\n",
    "class PDFDrawing: \n",
    "    \"\"\"\n",
    "    This is a PDF Drawing class.\n",
    "    \"\"\" \n",
    "    def __init__ (self, path): \n",
    "        self.path : str = path\n",
    "        self.temp_folder: Path = Path(tempfile.gettempdir())\n",
    "        self.temp_file_path = self.__copy_file_to_temp()\n",
    "        self.doc : fitz.Document = fitz.open(self.temp_file_path) # type: ignore\n",
    "        self.temp_image_path = self.__convert_to_png()\n",
    "        \n",
    "    def __copy_file_to_temp(self) -> Path: \n",
    "        filename = self.__generate_random_filename()\n",
    "        output_path = Path.joinpath(self.temp_folder, filename + \".pdf\")\n",
    "        shutil.copyfile(src=self.path, dst=output_path)\n",
    "        return output_path\n",
    "    \n",
    "    def __generate_random_filename(self) -> str:\n",
    "        return f\"{uuid.uuid4()}.png\"\n",
    "    \n",
    "    def __convert_to_png (self) -> Path: \n",
    "        images = convert_from_path(pdf_path=self.temp_file_path, dpi=500)\n",
    "        filename = Path(self.temp_file_path).stem\n",
    "        output_path = Path.joinpath(Path(self.temp_folder), filename + \".png\")\n",
    "        images[0].save(fp=output_path, format=\"PNG\")\n",
    "        return output_path\n",
    "    \n",
    "    def get_width (self) -> int: \n",
    "        return self.doc[0].rect.width\n",
    "    \n",
    "    def get_height (self) -> int: \n",
    "        return self.doc[0].rect.height\n",
    "    \n",
    "    def get_page_orientation(self) -> str: \n",
    "        assert self.get_width() > 0, \"Width is not greater than 0\"\n",
    "        assert self.get_height() > 0, \"Height is not greater than 0\"\n",
    "        \n",
    "        if self.get_width() < self.get_height(): \n",
    "            return \"vertical\"\n",
    "        else: \n",
    "            return \"horizontal\"\n",
    "    \n",
    "    def get_text_orientation(self) -> int:\n",
    "        my_image = Image.open(self.temp_image_path)\n",
    "        osd = tess.image_to_osd(my_image).split()\n",
    "        orientation = int(osd[8])\n",
    "        return orientation\n",
    "    \n",
    "    def get_plan_type(self) -> str: \n",
    "        page_orientation = self.get_page_orientation()\n",
    "        \n",
    "        if page_orientation == \"vertical\": \n",
    "            if self.get_text_orientation() == 0: \n",
    "                return \"vertical plan and horizontal text\"\n",
    "            elif self.get_text_orientation() == 90: \n",
    "                return \"vertical plan and vertical text\"\n",
    "            else:\n",
    "                raise Exception(\"Plan type not allowed\")\n",
    "            \n",
    "        elif page_orientation == \"horizontal\":\n",
    "            raise Exception(\"Plan type not allowed\")\n",
    "        \n",
    "        else: \n",
    "            raise Exception(\"Plan type not allowed\")\n",
    "            "
   ]
  },
  {
   "cell_type": "code",
   "execution_count": 20,
   "metadata": {},
   "outputs": [],
   "source": [
    "path = \"./inputs/114319E.PDF\"\n",
    "\n",
    "pdf_drawing = PDFDrawing(path=path)"
   ]
  },
  {
   "cell_type": "code",
   "execution_count": 18,
   "metadata": {},
   "outputs": [
    {
     "data": {
      "text/plain": [
       "(612.0, 792.0)"
      ]
     },
     "execution_count": 18,
     "metadata": {},
     "output_type": "execute_result"
    }
   ],
   "source": [
    "pdf_drawing.get_width(), pdf_drawing.get_height()"
   ]
  },
  {
   "cell_type": "code",
   "execution_count": 13,
   "metadata": {},
   "outputs": [
    {
     "data": {
      "text/plain": [
       "'vertical'"
      ]
     },
     "execution_count": 13,
     "metadata": {},
     "output_type": "execute_result"
    }
   ],
   "source": [
    "pdf_drawing.get_page_orientation()"
   ]
  },
  {
   "cell_type": "code",
   "execution_count": 21,
   "metadata": {},
   "outputs": [
    {
     "data": {
      "text/plain": [
       "90"
      ]
     },
     "execution_count": 21,
     "metadata": {},
     "output_type": "execute_result"
    }
   ],
   "source": [
    "pdf_drawing.get_text_orientation()"
   ]
  },
  {
   "cell_type": "code",
   "execution_count": 15,
   "metadata": {},
   "outputs": [
    {
     "data": {
      "text/plain": [
       "'vertical plan and vertical text'"
      ]
     },
     "execution_count": 15,
     "metadata": {},
     "output_type": "execute_result"
    }
   ],
   "source": [
    "pdf_drawing.get_plan_type()"
   ]
  }
 ],
 "metadata": {
  "kernelspec": {
   "display_name": "Python 3",
   "language": "python",
   "name": "python3"
  },
  "language_info": {
   "codemirror_mode": {
    "name": "ipython",
    "version": 3
   },
   "file_extension": ".py",
   "mimetype": "text/x-python",
   "name": "python",
   "nbconvert_exporter": "python",
   "pygments_lexer": "ipython3",
   "version": "3.10.5"
  },
  "orig_nbformat": 4,
  "vscode": {
   "interpreter": {
    "hash": "2de7b4a052e65261ea8541eacad9ab5841dbc9fbfe443eb5e82600569ad0c738"
   }
  }
 },
 "nbformat": 4,
 "nbformat_minor": 2
}
