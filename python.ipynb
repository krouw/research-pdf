{
 "cells": [
  {
   "cell_type": "code",
   "execution_count": null,
   "metadata": {
    "dotnet_interactive": {
     "language": "csharp"
    },
    "polyglot_notebook": {
     "kernelName": "csharp"
    }
   },
   "outputs": [],
   "source": [
    "import fitz\n",
    "\n",
    "doc = fitz.open(\"./inputs/114319B_rotated.PDF\")\n",
    "\n",
    "for page in doc:\n",
    "    print(page.rect.width, page.rect.height)\n",
    "    page_width = page.rect.width\n",
    "    page_height = page.rect.height \n",
    "    \n",
    "    if (page_width > page_height):\n",
    "        page.set_rotation(45)\n",
    "        \n",
    "    page.draw_rect(\n",
    "        [445,670,505,775],\n",
    "        # [510,670,570,775],  \n",
    "        color = (0,0,0), \n",
    "        width = 0.5,\n",
    "        overlay = True)\n",
    "    \n",
    "    page.insert_text(\n",
    "        [480,675],\n",
    "        \"OT.114319\",\n",
    "        fontsize = 14,\n",
    "        color = (0,0,0), \n",
    "        fontname = \"Helvetica\",\n",
    "        rotate = -90,\n",
    "        overlay = True\n",
    "    )\n",
    "    \n",
    "    page.insert_text(\n",
    "        [460,675],\n",
    "        \"FECHA: 20/12/22\",\n",
    "        fontsize = 9,\n",
    "        color = (0,0,0), \n",
    "        fontname = \"Helvetica-Bold\",\n",
    "        rotate = -90,\n",
    "        border_width=2,\n",
    "        overlay = True \n",
    "    )\n",
    "    \n",
    "    # insert_text(\n",
    "    #     point, \n",
    "    #     text, \n",
    "    #     fontsize=11, \n",
    "    #     fontname='helv', \n",
    "    #     fontfile=None, \n",
    "    #     idx=0, \n",
    "    #     color=None, \n",
    "    #     fill=None, \n",
    "    #     render_mode=0, \n",
    "    #     border_width=1, \n",
    "    #     encoding=TEXT_ENCODING_LATIN, \n",
    "    #     rotate=0, \n",
    "    #     morph=None, \n",
    "    #     stroke_opacity=1, \n",
    "    #     fill_opacity=1, \n",
    "    #     overlay=True, \n",
    "    #     oc=0)\n",
    "\n",
    "\n",
    "\n",
    "doc.save('output_018.pdf')"
   ]
  },
  {
   "cell_type": "code",
   "execution_count": null,
   "metadata": {
    "dotnet_interactive": {
     "language": "csharp"
    },
    "polyglot_notebook": {
     "kernelName": "csharp"
    }
   },
   "outputs": [],
   "source": [
    "import typing\n",
    "from borb.pdf import Document\n",
    "from borb.pdf import PDF\n",
    "\n",
    "import typing\n",
    "from decimal import Decimal\n",
    "\n",
    "from borb.pdf import Document\n",
    "from borb.pdf import Page\n",
    "from borb.pdf import PDF\n",
    "from borb.pdf import MultiColumnLayout\n",
    "from borb.pdf import PageLayout\n",
    "from borb.pdf import Paragraph\n",
    "from borb.pdf import HexColor\n",
    "\n",
    "\n",
    "def main():\n",
    "\n",
    "    doc: typing.Optional[Document] = None\n",
    "    with open(\"./inputs/114319C.PDF\", \"rb\") as pdf_file_handle:\n",
    "        doc = PDF.loads(pdf_file_handle)\n",
    "\n",
    "    assert doc is not None\n",
    "\n",
    "    # rotate Page\n",
    "    doc.get_page(0).rotate_right()\n",
    "\n",
    "    # store Document\n",
    "    with open(\"output_004.pdf\", \"wb\") as pdf_file_handle:\n",
    "        PDF.dumps(pdf_file_handle, doc)\n",
    "\n",
    "\n",
    "if __name__ == \"__main__\":\n",
    "    main()"
   ]
  },
  {
   "cell_type": "code",
   "execution_count": null,
   "metadata": {
    "dotnet_interactive": {
     "language": "csharp"
    },
    "polyglot_notebook": {
     "kernelName": "csharp"
    }
   },
   "outputs": [],
   "source": [
    "\n",
    "from borb.pdf import Document\n",
    "from borb.pdf import Page\n",
    "from borb.pdf import PDF\n",
    "from borb.pdf import MultiColumnLayout\n",
    "from borb.pdf import PageLayout\n",
    "from borb.pdf import Paragraph\n",
    "from borb.pdf import HexColor\n",
    "\n",
    "from pathlib import Path\n",
    "from borb.pdf import Document\n",
    "from borb.pdf import Page\n",
    "from borb.pdf import Paragraph\n",
    "from borb.pdf import PDF\n",
    "from borb.pdf.canvas.geometry.rectangle import Rectangle\n",
    "from borb.pdf import Alignment\n",
    "from borb.pdf.canvas.layout.annotation.square_annotation import SquareAnnotation\n",
    "from borb.pdf import HexColor, Image\n",
    "\n",
    "from decimal import Decimal\n",
    "\n",
    "\n",
    "def main():\n",
    "\n",
    "    doc: typing.Optional[Document] = None\n",
    "    with open(\"./inputs/114319B.PDF\", \"rb\") as pdf_file_handle:\n",
    "        doc = PDF.loads(pdf_file_handle)\n",
    "\n",
    "    assert doc is not None\n",
    "\n",
    "    # doc.get_page(0).rotate_right()\n",
    "    \n",
    "    # get first page\n",
    "    page: Page = doc.get_page(0)\n",
    "    \n",
    "    # layout = SingleColumnLayout(page)\n",
    "    \n",
    "    # layout.add(\n",
    "    #     Image(\n",
    "    #         Path(\"./inputs/114319A-scanned-rotated.png\"),\n",
    "    #         width=Decimal(450),\n",
    "    #         height=Decimal(450),\n",
    "    #     )\n",
    "    # )\n",
    "    \n",
    "    # get all data from page\n",
    "    page_data = page.get_document\n",
    "    \n",
    "    r: Rectangle = Rectangle(\n",
    "        Decimal(450),                # x: 0 + page_margin\n",
    "        Decimal(500),    # y: page_height - page_margin - height_of_textbox\n",
    "        Decimal(100),      # width: page_width - 2 * page_margin\n",
    "        Decimal(50),               # height\n",
    "    )\n",
    "\n",
    "    page.add_annotation(SquareAnnotation(r, stroke_color=HexColor(\"#ff0000\")))\n",
    "\n",
    "    # the next line of code uses absolute positioning\n",
    "    Paragraph(\"\\t\\tOT.999999\\n\\t\\tFECHA: 20/12/22\", \n",
    "              vertical_alignment=Alignment.MIDDLE\n",
    "              ).paint(page, r)\n",
    "\n",
    "    # store Document\n",
    "    with open(\"output_003.pdf\", \"wb\") as pdf_file_handle:\n",
    "        PDF.dumps(pdf_file_handle, doc)\n",
    "\n",
    "\n",
    "if __name__ == \"__main__\":\n",
    "    main()"
   ]
  },
  {
   "cell_type": "code",
   "execution_count": null,
   "metadata": {
    "dotnet_interactive": {
     "language": "csharp"
    },
    "polyglot_notebook": {
     "kernelName": "csharp"
    }
   },
   "outputs": [],
   "source": [
    "import typing\n",
    "from borb.pdf import Document\n",
    "from borb.pdf import PDF\n",
    "from borb.toolkit.ocr.ocr_as_optional_content_group import OCRAsOptionalContentGroup\n",
    "\n",
    "from pathlib import Path\n",
    "\n",
    "\n",
    "def main():\n",
    "\n",
    "    # set up everything for OCR\n",
    "    tesseract_data_dir: Path = Path(\"./inputs/\")\n",
    "    assert tesseract_data_dir.exists()\n",
    "    l: OCRAsOptionalContentGroup = OCRAsOptionalContentGroup(tesseract_data_dir)\n",
    "\n",
    "    # read Document\n",
    "    doc: typing.Optional[Document] = None\n",
    "    with open(\"./inputs/114319B.PDF\", \"rb\") as pdf_file_handle:\n",
    "        doc = PDF.loads(pdf_file_handle, [l])\n",
    "\n",
    "    assert doc is not None\n",
    "\n",
    "    with open(\"output_002.pdf\", \"wb\") as pdf_file_handle:\n",
    "        PDF.dumps(pdf_file_handle, doc)\n",
    "\n",
    "\n",
    "if __name__ == \"__main__\":\n",
    "    main()"
   ]
  },
  {
   "cell_type": "code",
   "execution_count": null,
   "metadata": {
    "dotnet_interactive": {
     "language": "csharp"
    },
    "polyglot_notebook": {
     "kernelName": "csharp"
    }
   },
   "outputs": [],
   "source": [
    "import cv2\n",
    "\n",
    "image = cv2.imread('./inputs/114319A-scanned-rotated.png')\n",
    "image.shape"
   ]
  },
  {
   "cell_type": "code",
   "execution_count": null,
   "metadata": {
    "dotnet_interactive": {
     "language": "csharp"
    },
    "polyglot_notebook": {
     "kernelName": "csharp"
    }
   },
   "outputs": [],
   "source": [
    "from pathlib import Path\n",
    "from borb.pdf import Document\n",
    "from borb.pdf import Page\n",
    "from borb.pdf import Paragraph\n",
    "from borb.pdf import PDF\n",
    "from borb.pdf.canvas.geometry.rectangle import Rectangle\n",
    "from borb.pdf import Alignment\n",
    "from borb.pdf.canvas.layout.annotation.square_annotation import SquareAnnotation\n",
    "from borb.pdf import HexColor, Image\n",
    "\n",
    "from decimal import Decimal\n",
    "\n",
    "\n",
    "def main():\n",
    "    doc: Document = Document()\n",
    "\n",
    "    page: Page = Page()\n",
    "    doc.add_page(page)\n",
    "    \n",
    "    doc.get_page(0).rotate_right()\n",
    "    \n",
    "    layout = SingleColumnLayout(page)\n",
    "    \n",
    "    layout.add(\n",
    "        Image(\n",
    "            Path(\"./inputs/114319A-scanned-rotated.png\"),\n",
    "            width=Decimal(450),\n",
    "            height=Decimal(450),\n",
    "        )\n",
    "    )\n",
    "    \n",
    "    r: Rectangle = Rectangle(\n",
    "        Decimal(450),                # x: 0 + page_margin\n",
    "        Decimal(500),    # y: page_height - page_margin - height_of_textbox\n",
    "        Decimal(100),      # width: page_width - 2 * page_margin\n",
    "        Decimal(50),               # height\n",
    "    )\n",
    "\n",
    "    page.add_annotation(SquareAnnotation(r, stroke_color=HexColor(\"#ff0000\")))\n",
    "\n",
    "    # the next line of code uses absolute positioning\n",
    "    Paragraph(\"\\t\\tOT.999999\\n\\t\\tFECHA: 20/12/22\", \n",
    "              vertical_alignment=Alignment.MIDDLE\n",
    "              ).paint(page, r)\n",
    "\n",
    "    # store\n",
    "    with open(\"output3.pdf\", \"wb\") as pdf_file_handle:\n",
    "        PDF.dumps(pdf_file_handle, doc)\n",
    "\n",
    "\n",
    "if __name__ == \"__main__\":\n",
    "    main()"
   ]
  },
  {
   "cell_type": "code",
   "execution_count": null,
   "metadata": {
    "dotnet_interactive": {
     "language": "csharp"
    },
    "polyglot_notebook": {
     "kernelName": "csharp"
    }
   },
   "outputs": [],
   "source": [
    "from pathlib import Path\n",
    "\n",
    "from borb.pdf import Document\n",
    "from borb.pdf import Page\n",
    "from borb.pdf import SingleColumnLayout\n",
    "from borb.pdf import Paragraph\n",
    "from borb.pdf import PDF\n",
    "\n",
    "# create an empty Document\n",
    "pdf = Document()\n",
    "\n",
    "# add an empty Page\n",
    "page = Page()\n",
    "pdf.add_page(page)\n",
    "\n",
    "# use a PageLayout (SingleColumnLayout in this case)\n",
    "layout = SingleColumnLayout(page)\n",
    "\n",
    "# add a Paragraph object\n",
    "layout.add(Paragraph(\"Hello World!\"))\n",
    "\n",
    "\n",
    "layout.add(\n",
    "        Image(\n",
    "            \"./inputs/114319A-scanned.png\",\n",
    "            width=Decimal(400),\n",
    "            height=Decimal(400),\n",
    "        )\n",
    "    )\n",
    "\n",
    "# save the Document using borb\n",
    "with open(\"output.pdf\", \"wb\") as pdf_file_handle:\n",
    "        PDF.dumps(pdf_file_handle, pdf)\n",
    "\n"
   ]
  },
  {
   "cell_type": "code",
   "execution_count": null,
   "metadata": {
    "dotnet_interactive": {
     "language": "csharp"
    },
    "polyglot_notebook": {
     "kernelName": "csharp"
    }
   },
   "outputs": [],
   "source": [
    "edit_pdf(Path(\"./inputs/114319B.PDF\"), Path(\"./output.PDF\"))\n",
    "    "
   ]
  },
  {
   "cell_type": "code",
   "execution_count": null,
   "metadata": {
    "dotnet_interactive": {
     "language": "csharp"
    },
    "polyglot_notebook": {
     "kernelName": "csharp"
    }
   },
   "outputs": [],
   "source": [
    "import fitz\n",
    "\n",
    "output_file = \"example-with-barcode.pdf\"\n",
    "\n",
    "# define the position (upper-right corner)\n",
    "image_rectangle = fitz.Rect(450,20,550,120)\n",
    "\n",
    "# retrieve the first page of the PDF\n",
    "file_handle = fitz.open(\"./inputs/114319A.PDF\")\n",
    "first_page = file_handle[0]\n",
    "\n",
    "# add the image\n",
    "first_page.insertImage(image_rectangle, fileName=\"./inputs/text.png\")\n",
    "\n",
    "file_handle.save(output_file)"
   ]
  },
  {
   "cell_type": "code",
   "execution_count": null,
   "metadata": {
    "dotnet_interactive": {
     "language": "csharp"
    },
    "polyglot_notebook": {
     "kernelName": "csharp"
    }
   },
   "outputs": [],
   "source": [
    "# import module\n",
    "from pdf2image import convert_from_path\n",
    " \n",
    " \n",
    "# Store Pdf with convert_from_path function\n",
    "images = convert_from_path('./inputs/114319C.PDF')\n",
    " \n",
    "for i in range(len(images)):\n",
    "   \n",
    "      # Save pages as images in the pdf\n",
    "    images[i].save('page'+ str(i) +'.jpg', 'JPEG')"
   ]
  },
  {
   "cell_type": "code",
   "execution_count": null,
   "metadata": {
    "dotnet_interactive": {
     "language": "csharp"
    },
    "polyglot_notebook": {
     "kernelName": "csharp"
    }
   },
   "outputs": [],
   "source": [
    "from PyPDF2 import PdfWriter\n",
    "\n",
    "writer = PdfWriter()\n",
    "writer.add_blank_page(width=200, height=200)\n",
    "\n",
    "data = b\"any bytes - typically read from a file\"\n",
    "writer.add_attachment(\"smile.png\", data)\n",
    "\n",
    "with open(\"PyPDF2-test3.pdf\", \"wb\") as output_stream:\n",
    "    writer.write(output_stream)"
   ]
  },
  {
   "cell_type": "code",
   "execution_count": null,
   "metadata": {
    "dotnet_interactive": {
     "language": "csharp"
    },
    "polyglot_notebook": {
     "kernelName": "csharp"
    }
   },
   "outputs": [],
   "source": [
    "from PyPDF2 import PdfReader, PdfWriter\n",
    "from PyPDF2.generic import AnnotationBuilder\n",
    "\n",
    "reader = PdfReader(\"./inputs/114319B.PDF\")\n",
    "page = reader.pages[0]\n",
    "writer = PdfWriter()\n",
    "writer.add_page(page)\n",
    "\n",
    "annotation = AnnotationBuilder.rectangle(\n",
    "    rect=(50, 550, 200, 650))\n",
    "\n",
    "writer.add_annotation(page_number=0, annotation=annotation)\n",
    "\n",
    "annotation_1 = AnnotationBuilder.free_text(\n",
    "    \"Hello World\\nThis is the second line!\",\n",
    "    rect=(50, 550, 200, 650),\n",
    "    font=\"Arial\",\n",
    "    bold=True,\n",
    "    italic=True,\n",
    "    font_size=\"20pt\",\n",
    "    font_color=\"000000\",\n",
    "    border_color=\"0000ff\",\n",
    ")\n",
    "writer.add_annotation(page_number=0, annotation=annotation_1)\n",
    "\n",
    "\n",
    "with open(\"PyPDF2-test2.pdf\", \"wb\") as fp:\n",
    "    writer.write(fp)"
   ]
  },
  {
   "cell_type": "code",
   "execution_count": null,
   "metadata": {
    "dotnet_interactive": {
     "language": "csharp"
    },
    "polyglot_notebook": {
     "kernelName": "csharp"
    }
   },
   "outputs": [],
   "source": [
    "from PyPDF2 import PdfReader, PdfWriter\n",
    "\n",
    "reader = PdfReader(\"./inputs/114319B.PDF\")\n",
    "writer = PdfWriter()\n",
    "\n",
    "page = reader.pages[0]\n",
    "fields = reader.get_fields()\n",
    "\n",
    "writer.add_page(page)\n",
    "\n",
    "writer.update_page_form_field_values(\n",
    "    writer.pages[0], {\"fieldname\": \"some filled in text\"}\n",
    ")\n",
    "\n",
    "# update text from a page\n",
    "    \n",
    "\n",
    "# write \"output\" to PyPDF2-output.pdf\n",
    "with open(\"PyPDF2-test2.pdf\", \"wb\") as output_stream:\n",
    "    writer.write(output_stream)"
   ]
  },
  {
   "cell_type": "code",
   "execution_count": null,
   "metadata": {
    "dotnet_interactive": {
     "language": "csharp"
    },
    "polyglot_notebook": {
     "kernelName": "csharp"
    }
   },
   "outputs": [],
   "source": [
    "from reportlab.platypus import SimpleDocTemplate\n",
    "from reportlab.platypus import Table\n",
    "\n",
    "from reportlab.lib.units import inch\n",
    "from reportlab.graphics import shapes\n",
    "\n",
    "# setup your platypus document\n",
    "pdf = SimpleDocTemplate(\"sample.pdf\",\n",
    "                        pagesize=letter,\n",
    "                        rightMargin=72,\n",
    "                        leftMargin=72,\n",
    "                        topMargin=72,\n",
    "                        bottomMargin=18)\n",
    "\n",
    "# create your table from data\n",
    "data = [\n",
    "['a', 'b', 'c'],\n",
    "['where I want to import rectangles', '', ''],\n",
    "['some data', '', '']]\n",
    "\n",
    "table = Table(data)\n",
    "\n",
    "# draw your shapes and add to the platypus doc which is letter 8.5x11 inch\n",
    "x = 1\n",
    "y = 8   \n",
    "width = (8.5-2)*inch # object in points, so we multiply by inch (72 points)\n",
    "height = 1*inch # object in points, so we multiply by inch (72 points)\n",
    "\n",
    "# Create your drawing with rectangle \n",
    "d = shapes.Drawing(width,height)\n",
    "r = shapes.Rect(x, y, width, height, fillColor=None, strokeColor=colors.black)\n",
    "# add the rectangle to your Drawing\n",
    "d.add(r)\n",
    "\n",
    "# Setup your Story\n",
    "Story = []\n",
    "Story.append(table)\n",
    "# add the Drawing (i.e. the drawn rectangle) to the platypus doc\n",
    "Story.append(d)\n",
    "\n",
    "# Export to PDF\n",
    "pdf.build(Story)"
   ]
  },
  {
   "cell_type": "code",
   "execution_count": null,
   "metadata": {
    "dotnet_interactive": {
     "language": "csharp"
    },
    "polyglot_notebook": {
     "kernelName": "csharp"
    }
   },
   "outputs": [],
   "source": [
    "import fitz\n",
    "# Open the pdf\n",
    "doc = fitz.open(\"./inputs/114319B.PDF\")\n",
    "for page in doc:\n",
    "    # For every page, draw a rectangle on coordinates (1,1)(100,100)\n",
    "    page.draw_rect(\n",
    "        [300,300,400,400],  color = (0, 0, 0), width = 1)\n",
    "    \n",
    "    # insert text in the rectangle\n",
    "    page.insert_textbox(\n",
    "        [300,300,400,400], \"Hello World\", fontsize = 20, color = (0, 0, 0), fontname = \"Helvetica\",\n",
    "        rotate = 90, align = 0, overlay = True, border = 0, fill = 0, fillcolor = (0, 0, 0), fillopacity = 0.5)\n",
    "    \n",
    "    # get page dimensions\n",
    "    print(page.rect.width, page.rect.height)\n",
    "    \n",
    "    \n",
    "# Save pdf\n",
    "doc.save('output_007.pdf')"
   ]
  },
  {
   "cell_type": "code",
   "execution_count": null,
   "metadata": {
    "dotnet_interactive": {
     "language": "csharp"
    },
    "polyglot_notebook": {
     "kernelName": "csharp"
    }
   },
   "outputs": [],
   "source": [
    "import pdfrw\n",
    "pdf = pdfrw.PdfReader(\"./inputs/114319B.PDF\")\n",
    "\n",
    "new_pdf = pdfrw.PdfWriter()\n",
    "for page in pdf.pages:\n",
    "    \n",
    "    # gets all words from the page\n",
    "    words = page.Contents.stream.split()\n",
    "    print(words)\n",
    "    \n",
    "#     for annot in page.Annots or []:\n",
    "#         print(annot)\n",
    "    #     old_url = annot.A.URI\n",
    "    #     if old_url.upper().__contains__(\"GOOGLE\"):\n",
    "    #         new_url = old_url.replace(\"google\",\"test\")\n",
    "    #         annot.A.URI = new_url\n",
    "    \n",
    "    new_pdf.addPage(page)\n",
    "new_pdf.write(\"pdfrw-test1.pdf\")\n"
   ]
  },
  {
   "cell_type": "code",
   "execution_count": null,
   "metadata": {
    "dotnet_interactive": {
     "language": "csharp"
    },
    "polyglot_notebook": {
     "kernelName": "csharp"
    }
   },
   "outputs": [],
   "source": [
    "import typing\n",
    "from borb.pdf import Document\n",
    "from borb.pdf import PDF\n",
    "\n",
    "import typing\n",
    "from decimal import Decimal\n",
    "\n",
    "from borb.pdf import Document\n",
    "from borb.pdf import Page\n",
    "from borb.pdf import PDF\n",
    "from borb.pdf import MultiColumnLayout\n",
    "from borb.pdf import PageLayout\n",
    "from borb.pdf import Paragraph\n",
    "from borb.pdf import HexColor\n",
    "\n",
    "\n",
    "def main():\n",
    "\n",
    "    # create new document\n",
    "    d: Document = Document()\n",
    "\n",
    "    # add Page\n",
    "    p: Page = Page()\n",
    "    d.add_page(p)\n",
    "    page_number: int = 1\n",
    "\n",
    "    # create PageLayout\n",
    "    l: PageLayout = MultiColumnLayout(p)\n",
    "\n",
    "    # adding Pages\n",
    "    for _ in range(0, 20):\n",
    "        if l.get_page() != p or page_number == 1:\n",
    "            l.add(\n",
    "                Paragraph(\n",
    "                    \"Page %d\" % page_number,\n",
    "                    font_color=HexColor(\"f1cd2e\"),\n",
    "                    font_size=Decimal(20),\n",
    "                    font=\"Courier-Bold\",\n",
    "                )\n",
    "            )\n",
    "            p = l.get_page()\n",
    "            page_number += 1\n",
    "\n",
    "        l.add(\n",
    "            Paragraph(\n",
    "                \"\"\"\n",
    "                        Lorem ipsum dolor sit amet, consectetur adipiscing elit, sed do eiusmod tempor incididunt ut labore et dolore magna aliqua. \n",
    "                        Ut enim ad minim veniam, quis nostrud exercitation ullamco laboris nisi ut aliquip ex ea commodo consequat. \n",
    "                        Duis aute irure dolor in reprehenderit in voluptate velit esse cillum dolore eu fugiat nulla pariatur. \n",
    "                        Excepteur sint occaecat cupidatat non proident, sunt in culpa qui officia deserunt mollit anim id est laborum.\n",
    "                        \"\"\"\n",
    "            )\n",
    "        )\n",
    "\n",
    "    # write\n",
    "    with open(\"output_005.pdf\", \"wb\") as pdf_file_handle:\n",
    "        PDF.dumps(pdf_file_handle, d)\n",
    "\n",
    "\n",
    "if __name__ == \"__main__\":\n",
    "    main()"
   ]
  },
  {
   "cell_type": "code",
   "execution_count": null,
   "metadata": {
    "dotnet_interactive": {
     "language": "csharp"
    },
    "polyglot_notebook": {
     "kernelName": "csharp"
    }
   },
   "outputs": [],
   "source": [
    "import os\n",
    "from fpdf import FPDF\n",
    "#from PIL import Image\n",
    "\n",
    "#pdf = FPDF(orientation = 'L')\n",
    "pdf = FPDF()\n",
    "pdf.add_page() #add a page first\n",
    "\n",
    "#i = Image.open('flower.png')\n",
    "#i_name = os.path.basename('flower.png')\n",
    "#w, h = i.size\n",
    "pdf.image('flower.png')\n",
    "pdf.output(\"image.pdf\", \"F\")\n",
    "\n",
    "dirs = os.listdir('.')\n",
    "\n",
    "pdf1 = FPDF()\n",
    "#pdf1.add_page()\n",
    "for img in dirs:\n",
    "    if os.path.isfile(img) and os.path.splitext(img)[1].lower() in ('.jpg', '.jpeg', '.png'):\n",
    "        #print(img)\n",
    "        pdf1.add_page()\n",
    "        pdf1.image(img)\n",
    "\n",
    "pdf1.output(\"images.pdf\", \"F\")"
   ]
  },
  {
   "cell_type": "code",
   "execution_count": null,
   "metadata": {
    "dotnet_interactive": {
     "language": "csharp"
    },
    "polyglot_notebook": {
     "kernelName": "csharp"
    }
   },
   "outputs": [],
   "source": [
    "import aspose.words as aw\n",
    "\n",
    "# Create a blank document.\n",
    "doc = aw.Document(\"./inputs/114319A.PDF\")\n",
    "\n",
    "# Use a document builder to add content to the document.\n",
    "builder = aw.DocumentBuilder(doc)\n",
    "# Write a new paragraph in the document with the text \"Hello World!\".\n",
    "builder.writeln(\"Hello, World!\")\n",
    "\n",
    "doc.save(\"aspose-test2.pdf\")"
   ]
  },
  {
   "cell_type": "code",
   "execution_count": null,
   "metadata": {
    "dotnet_interactive": {
     "language": "csharp"
    },
    "polyglot_notebook": {
     "kernelName": "csharp"
    }
   },
   "outputs": [],
   "source": [
    "import aspose.words as aw\n",
    "\n",
    "# Load the PDF document from the disc.\n",
    "doc = aw.Document(\"./inputs/114319A.PDF\")\n",
    "\n",
    "\n",
    "doc.save(\"Output.pdf\")"
   ]
  },
  {
   "cell_type": "code",
   "execution_count": null,
   "metadata": {
    "dotnet_interactive": {
     "language": "csharp"
    },
    "polyglot_notebook": {
     "kernelName": "csharp"
    }
   },
   "outputs": [],
   "source": [
    "import PyPDF2\n",
    "\n",
    "# Abrir el archivo PDF\n",
    "pdf_file = open('C:/Users/joel_/Desktop/emaresa/114319A.PDF', 'rb')\n",
    "\n",
    "# Crear un objeto PDFReader\n",
    "pdf_reader = PyPDF2.PdfReader(pdf_file)\n",
    "\n",
    "# Buscar el elemento en cada página del archivo PDF\n",
    "search_term = \"OT.114319\"\n",
    "for page in pdf_reader.pages:\n",
    "    page_text = page.extract_text()\n",
    "    if search_term in page_text:\n",
    "        print(f'Se encontró el elemento en la página {page + 1}')\n",
    "\n",
    "\n",
    "# Cerrar el archivo PDF\n",
    "pdf_file.close()"
   ]
  },
  {
   "cell_type": "code",
   "execution_count": null,
   "metadata": {
    "dotnet_interactive": {
     "language": "csharp"
    },
    "polyglot_notebook": {
     "kernelName": "csharp"
    }
   },
   "outputs": [],
   "source": [
    "from pdfminer.pdfinterp import PDFResourceManager, PDFPageInterpreter\n",
    "from pdfminer.converter import TextConverter\n",
    "from pdfminer.layout import LAParams\n",
    "from pdfminer.pdfpage import PDFPage\n",
    "from io import StringIO\n",
    "\n",
    "def convert_pdf_to_txt(path):\n",
    "    rsrcmgr = PDFResourceManager()\n",
    "    retstr = StringIO()\n",
    "    codec = 'utf-8'\n",
    "    laparams = LAParams()\n",
    "    device = TextConverter(rsrcmgr, retstr, codec=codec, laparams=laparams)\n",
    "    fp = open(path, 'rb')\n",
    "    interpreter = PDFPageInterpreter(rsrcmgr, device)\n",
    "    password = \"\"\n",
    "    maxpages = 0\n",
    "    caching = True\n",
    "    pagenos=set()\n",
    "\n",
    "    for page in PDFPage.get_pages(fp, pagenos, maxpages=maxpages, password=password,caching=caching, check_extractable=True):\n",
    "        interpreter.process_page(page)\n",
    "\n",
    "    text = retstr.getvalue()\n",
    "\n",
    "    fp.close()\n",
    "    device.close()\n",
    "    retstr.close()\n",
    "    return text\n",
    "\n",
    "print(convert_pdf_to_txt('ejemplo.pdf'))"
   ]
  }
 ],
 "metadata": {
  "kernelspec": {
   "display_name": "Python 3",
   "language": "python",
   "name": "python3"
  },
  "language_info": {
   "name": "python",
   "version": "3.10.5 (tags/v3.10.5:f377153, Jun  6 2022, 16:14:13) [MSC v.1929 64 bit (AMD64)]"
  },
  "polyglot_notebook": {
   "kernelInfo": {
    "defaultKernelName": "csharp",
    "items": [
     {
      "aliases": [
       "c#",
       "C#"
      ],
      "languageName": "C#",
      "name": "csharp"
     },
     {
      "aliases": [
       "frontend"
      ],
      "name": "vscode"
     },
     {
      "aliases": [
       "js"
      ],
      "languageName": "JavaScript",
      "name": "javascript"
     },
     {
      "aliases": [],
      "name": ".NET"
     },
     {
      "aliases": [
       "f#",
       "F#"
      ],
      "languageName": "F#",
      "name": "fsharp"
     },
     {
      "aliases": [],
      "languageName": "HTML",
      "name": "html"
     },
     {
      "aliases": [],
      "languageName": "KQL",
      "name": "kql"
     },
     {
      "aliases": [],
      "languageName": "Mermaid",
      "name": "mermaid"
     },
     {
      "aliases": [
       "powershell"
      ],
      "languageName": "PowerShell",
      "name": "pwsh"
     },
     {
      "aliases": [],
      "languageName": "SQL",
      "name": "sql"
     },
     {
      "aliases": [],
      "name": "value"
     },
     {
      "aliases": [],
      "name": "webview"
     }
    ]
   }
  },
  "vscode": {
   "interpreter": {
    "hash": "2de7b4a052e65261ea8541eacad9ab5841dbc9fbfe443eb5e82600569ad0c738"
   }
  }
 },
 "nbformat": 4,
 "nbformat_minor": 2
}
